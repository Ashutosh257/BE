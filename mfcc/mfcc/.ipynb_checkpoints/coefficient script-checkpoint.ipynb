{
 "cells": [
  {
   "cell_type": "code",
   "execution_count": 3,
   "metadata": {},
   "outputs": [],
   "source": [
    "from python_speech_features import mfcc\n",
    "import scipy.io.wavfile as wav\n",
    "import os.path\n",
    "\n",
    "inputway = 'inputs/hungry/'\n",
    "way = 'outputs/hungry/'\n",
    "for x in range(1,2):\n",
    "    \n",
    "    completePath = os.path.join(inputway,str(x)+'.wav')\n",
    "    \n",
    "    (rate,sig) = wav.read(completePath)\n",
    "    mfcc_feat = mfcc(sig,rate)\n",
    "    \n",
    "    complete = os.path.join(way,str(x)+'file.txt')\n",
    "    \n",
    "    with open(complete, 'w') as f:\n",
    "        for item in mfcc_feat[:,:]:\n",
    "            f.write(\"\\n\\n%s\\n\" % item)\n",
    "    \n",
    "#print(mfcc_feat[:2,:])"
   ]
  },
  {
   "cell_type": "code",
   "execution_count": null,
   "metadata": {},
   "outputs": [],
   "source": []
  }
 ],
 "metadata": {
  "kernelspec": {
   "display_name": "Python 3",
   "language": "python",
   "name": "python3"
  },
  "language_info": {
   "codemirror_mode": {
    "name": "ipython",
    "version": 3
   },
   "file_extension": ".py",
   "mimetype": "text/x-python",
   "name": "python",
   "nbconvert_exporter": "python",
   "pygments_lexer": "ipython3",
   "version": "3.6.5"
  }
 },
 "nbformat": 4,
 "nbformat_minor": 2
}
